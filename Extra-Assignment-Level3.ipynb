{
 "cells": [
  {
   "cell_type": "code",
   "execution_count": 3,
   "id": "aab00a98-5825-4fc0-8ea2-da38ddb1e3a3",
   "metadata": {},
   "outputs": [
    {
     "name": "stdin",
     "output_type": "stream",
     "text": [
      "Enter value of i 10\n"
     ]
    },
    {
     "name": "stdout",
     "output_type": "stream",
     "text": [
      "Value:  10\n",
      "Correct\n"
     ]
    }
   ],
   "source": [
    "#print correct if i=10\n",
    "i=int(input(\"Enter value of i\"))\n",
    "if i==10:\n",
    "    print(\"Value: \", i)\n",
    "    print(\"Correct\")"
   ]
  },
  {
   "cell_type": "code",
   "execution_count": 11,
   "id": "1da8d421-a184-44c1-af75-82f0a3d3cdd3",
   "metadata": {},
   "outputs": [
    {
     "name": "stdin",
     "output_type": "stream",
     "text": [
      "Enter the password:  HOPE@123\n"
     ]
    },
    {
     "name": "stdout",
     "output_type": "stream",
     "text": [
      "Your password is correct!\n"
     ]
    }
   ],
   "source": [
    "#check the pwd sing if and else\n",
    "pwd=input(\"Enter the password: \")\n",
    "correct_pwd=\"HOPE@123\"\n",
    "if pwd==correct_pwd:\n",
    "    print(\"Your password is correct!\")\n",
    "else:\n",
    "    print(\"Incorrect password!\")"
   ]
  },
  {
   "cell_type": "code",
   "execution_count": 21,
   "id": "8b339994-11e6-4f85-93a5-c5e73d4d6481",
   "metadata": {},
   "outputs": [
    {
     "name": "stdin",
     "output_type": "stream",
     "text": [
      "Enter the age:  65\n"
     ]
    },
    {
     "name": "stdout",
     "output_type": "stream",
     "text": [
      "Senior Citizen\n"
     ]
    }
   ],
   "source": [
    "#Categorize the people by their age\n",
    "age=int(input(\"Enter the age: \"))\n",
    "if age < 12:\n",
    "    print(\"Children\")\n",
    "elif age < 25:\n",
    "    print(\"Adult\")\n",
    "elif age < 60:\n",
    "    print(\"Citizen\")\n",
    "else:\n",
    "    print(\"Senior Citizen\")"
   ]
  },
  {
   "cell_type": "code",
   "execution_count": 25,
   "id": "1152a168-9cf5-48d5-b255-2fd53451f39c",
   "metadata": {},
   "outputs": [
    {
     "name": "stdin",
     "output_type": "stream",
     "text": [
      "Enter value of i 5\n"
     ]
    },
    {
     "name": "stdout",
     "output_type": "stream",
     "text": [
      "5  is positive\n"
     ]
    }
   ],
   "source": [
    "#positive/negative\n",
    "i=int(input(\"Enter value of i\"))\n",
    "if i>0:\n",
    "    print(i,\" is positive\")\n",
    "else:\n",
    "    print(i,\" is negative\")"
   ]
  },
  {
   "cell_type": "code",
   "execution_count": 29,
   "id": "4bbeb29a-72c2-4f2e-a7fb-488faa09bd8c",
   "metadata": {},
   "outputs": [
    {
     "name": "stdin",
     "output_type": "stream",
     "text": [
      "Enter the number: 12\n"
     ]
    },
    {
     "name": "stdout",
     "output_type": "stream",
     "text": [
      "12  is not divisible by 5\n"
     ]
    }
   ],
   "source": [
    "#divisible by 5 or not\n",
    "i=int(input(\"Enter the number:\"))\n",
    "if i%5==0:\n",
    "    print(i,\" is divisible by 5\")\n",
    "else:\n",
    "    print(i,\" is not divisible by 5\")"
   ]
  }
 ],
 "metadata": {
  "kernelspec": {
   "display_name": "Python 3 (ipykernel)",
   "language": "python",
   "name": "python3"
  },
  "language_info": {
   "codemirror_mode": {
    "name": "ipython",
    "version": 3
   },
   "file_extension": ".py",
   "mimetype": "text/x-python",
   "name": "python",
   "nbconvert_exporter": "python",
   "pygments_lexer": "ipython3",
   "version": "3.11.7"
  }
 },
 "nbformat": 4,
 "nbformat_minor": 5
}
