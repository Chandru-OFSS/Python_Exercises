{
 "cells": [
  {
   "cell_type": "code",
   "execution_count": 1,
   "id": "f85b8335-5cb3-46fb-9565-5e59c21ec65c",
   "metadata": {},
   "outputs": [
    {
     "name": "stdout",
     "output_type": "stream",
     "text": [
      "Hope AI\n"
     ]
    }
   ],
   "source": [
    "#print stment\n",
    "print(\"Hope AI\")"
   ]
  },
  {
   "cell_type": "code",
   "execution_count": 5,
   "id": "473b8b4d-3063-4645-a56d-2a722638d58c",
   "metadata": {},
   "outputs": [
    {
     "name": "stdin",
     "output_type": "stream",
     "text": [
      "Enter your institute Name: OFSS\n",
      "Enter your Name: Chandru\n",
      "Enter your age: 45\n",
      "Enter your School Name: VRI School\n",
      "Enter your Degree: BE\n"
     ]
    }
   ],
   "source": [
    "ins=input(\"Enter your institute Name:\")\n",
    "\n",
    "name=input(\"Enter your Name:\")\n",
    "age=int(input(\"Enter your age:\"))\n",
    "school=input(\"Enter your School Name:\")\n",
    "degree=input(\"Enter your Degree:\")\n"
   ]
  },
  {
   "cell_type": "code",
   "execution_count": 7,
   "id": "824a116e-df24-469f-8ee2-d290af48481f",
   "metadata": {},
   "outputs": [
    {
     "name": "stdout",
     "output_type": "stream",
     "text": [
      "a=  43\n",
      "b=  34\n",
      "add= 77\n"
     ]
    }
   ],
   "source": [
    "a=43\n",
    "b=34\n",
    "print(\"a= \",a)\n",
    "print(\"b= \",b)\n",
    "print(\"add=\",a+b)"
   ]
  },
  {
   "cell_type": "code",
   "execution_count": 9,
   "id": "3c63733d-3043-42e6-a4f4-48fcd820c504",
   "metadata": {},
   "outputs": [
    {
     "name": "stdout",
     "output_type": "stream",
     "text": [
      "a=  43\n",
      "b=  34\n",
      "sub= 9\n"
     ]
    }
   ],
   "source": [
    "a=43\n",
    "b=34\n",
    "print(\"a= \",a)\n",
    "print(\"b= \",b)\n",
    "print(\"sub=\",a-b)"
   ]
  },
  {
   "cell_type": "code",
   "execution_count": 11,
   "id": "cecd5cf6-16a1-4ebc-9330-1798aace1722",
   "metadata": {},
   "outputs": [
    {
     "name": "stdout",
     "output_type": "stream",
     "text": [
      "a=  63\n",
      "b=  97\n",
      "mul= 6111\n"
     ]
    }
   ],
   "source": [
    "a=63\n",
    "b=97\n",
    "print(\"a= \",a)\n",
    "print(\"b= \",b)\n",
    "print(\"mul=\",a*b)"
   ]
  },
  {
   "cell_type": "code",
   "execution_count": 13,
   "id": "f5cfa572-fcf6-4443-8caa-1e8d14fd3903",
   "metadata": {},
   "outputs": [
    {
     "name": "stdout",
     "output_type": "stream",
     "text": [
      "a=  76\n",
      "b=  31\n",
      "div= 2.4516129032258065\n"
     ]
    }
   ],
   "source": [
    "a=76\n",
    "b=31\n",
    "print(\"a= \",a)\n",
    "print(\"b= \",b)\n",
    "print(\"div=\",a/b)\n"
   ]
  },
  {
   "cell_type": "code",
   "execution_count": 15,
   "id": "8d2a8a42-891d-4874-9cb0-767cc01cee38",
   "metadata": {},
   "outputs": [
    {
     "name": "stdout",
     "output_type": "stream",
     "text": [
      "a=  76\n",
      "b=  31\n",
      "Floor div= 2\n"
     ]
    }
   ],
   "source": [
    "#Floor division (rounded down to nearest integer)\n",
    "a=76\n",
    "b=31\n",
    "print(\"a= \",a)\n",
    "print(\"b= \",b)\n",
    "print(\"Floor div=\",a//b)"
   ]
  },
  {
   "cell_type": "code",
   "execution_count": 17,
   "id": "68441a37-d2b1-4452-a8d2-86f907128954",
   "metadata": {},
   "outputs": [
    {
     "name": "stdout",
     "output_type": "stream",
     "text": [
      "Floor div= 2\n"
     ]
    }
   ],
   "source": [
    "#Floor division 2\n",
    "result=a//b\n",
    "print(\"Floor div=\",result)"
   ]
  },
  {
   "cell_type": "code",
   "execution_count": 19,
   "id": "6cda9f3d-fec8-4870-9c02-cabdc74564d4",
   "metadata": {},
   "outputs": [
    {
     "name": "stdout",
     "output_type": "stream",
     "text": [
      "Floor div= 2.0\n"
     ]
    }
   ],
   "source": [
    "a=70.6\n",
    "b=30.5\n",
    "print(\"Floor div=\",a//b)"
   ]
  },
  {
   "cell_type": "code",
   "execution_count": 22,
   "id": "e96583f9-9e5a-4ab8-997b-86496ba26695",
   "metadata": {},
   "outputs": [
    {
     "name": "stdout",
     "output_type": "stream",
     "text": [
      "Floor div=  2.0\n"
     ]
    }
   ],
   "source": [
    "#Floor division negative numbers\n",
    "a=-70.6\n",
    "b=-30.5\n",
    "print(\"Floor div= \",a//b)"
   ]
  },
  {
   "cell_type": "code",
   "execution_count": 26,
   "id": "9204d932-78a9-4934-ae41-eb7d4b8cee53",
   "metadata": {},
   "outputs": [
    {
     "name": "stdout",
     "output_type": "stream",
     "text": [
      "Modulo= 1\n"
     ]
    }
   ],
   "source": [
    "#Modulo\n",
    "a=10\n",
    "b=3\n",
    "result=a%b\n",
    "print(\"Modulo=\",result)"
   ]
  },
  {
   "cell_type": "code",
   "execution_count": 30,
   "id": "7622f8af-d648-46a3-b27f-d1a464933338",
   "metadata": {},
   "outputs": [
    {
     "name": "stdout",
     "output_type": "stream",
     "text": [
      "Power= 256\n"
     ]
    }
   ],
   "source": [
    "#Power\n",
    "a=4\n",
    "b=4\n",
    "print(\"Power=\",a**b)"
   ]
  },
  {
   "cell_type": "code",
   "execution_count": 38,
   "id": "33419867-c563-4e23-9ae0-5b3c381c64e6",
   "metadata": {},
   "outputs": [
    {
     "name": "stdout",
     "output_type": "stream",
     "text": [
      "5\n"
     ]
    }
   ],
   "source": [
    "#Floor method 2\n",
    "import math\n",
    "a=20\n",
    "b=4\n",
    "print(math.floor(a/b))"
   ]
  }
 ],
 "metadata": {
  "kernelspec": {
   "display_name": "Python 3 (ipykernel)",
   "language": "python",
   "name": "python3"
  },
  "language_info": {
   "codemirror_mode": {
    "name": "ipython",
    "version": 3
   },
   "file_extension": ".py",
   "mimetype": "text/x-python",
   "name": "python",
   "nbconvert_exporter": "python",
   "pygments_lexer": "ipython3",
   "version": "3.11.7"
  }
 },
 "nbformat": 4,
 "nbformat_minor": 5
}
