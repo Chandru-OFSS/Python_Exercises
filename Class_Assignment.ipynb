{
 "cells": [
  {
   "cell_type": "code",
   "execution_count": 5,
   "id": "1e09433a-4add-49b4-916b-38bff48c04c5",
   "metadata": {},
   "outputs": [],
   "source": [
    "from MyFirstClass import MyFirstClass"
   ]
  },
  {
   "cell_type": "code",
   "execution_count": 3,
   "id": "cf343d22-d428-4cc8-87c1-2422eb291164",
   "metadata": {},
   "outputs": [
    {
     "name": "stdin",
     "output_type": "stream",
     "text": [
      "Enter the Age:  16\n",
      "Enter the Gender (M/F):  F\n"
     ]
    },
    {
     "name": "stdout",
     "output_type": "stream",
     "text": [
      "Your Gender is:  F\n",
      "Your Age is   :  16\n",
      "Not Eligible\n"
     ]
    }
   ],
   "source": [
    "MyFirstClass.CheckMarriageEligiblity()"
   ]
  },
  {
   "cell_type": "code",
   "execution_count": 5,
   "id": "10f1881a-0abb-41bc-ae62-1c6330c7b170",
   "metadata": {},
   "outputs": [
    {
     "name": "stdin",
     "output_type": "stream",
     "text": [
      "Enter the height1:  33\n",
      "Enter the height2:  22\n",
      "Enter the breadth:  40\n"
     ]
    },
    {
     "name": "stdout",
     "output_type": "stream",
     "text": [
      "Height:  33\n",
      "Breadth:  40\n",
      "Area of the Triangle is:  660.0\n",
      "Height1:  33\n",
      "Height2:  22\n",
      "Breadth:  40\n",
      "Perimeter of the Triangle is:  95\n"
     ]
    }
   ],
   "source": [
    "MyFirstClass.GetAreaAndPerim()"
   ]
  },
  {
   "cell_type": "code",
   "execution_count": 7,
   "id": "06b5a451-a1c5-404c-811f-7bc7356c024c",
   "metadata": {},
   "outputs": [
    {
     "name": "stdin",
     "output_type": "stream",
     "text": [
      "Enter marks for Subject1 =  100\n",
      "Enter marks for Subject2 =  98\n",
      "Enter marks for Subject3 =  99\n",
      "Enter marks for Subject4 =  97\n",
      "Enter marks for Subject5 =  96\n"
     ]
    },
    {
     "name": "stdout",
     "output_type": "stream",
     "text": [
      "Total =  490\n",
      "Percentage =  98.0\n"
     ]
    }
   ],
   "source": [
    "MyFirstClass.subject()"
   ]
  },
  {
   "cell_type": "code",
   "execution_count": 9,
   "id": "a62da4ef-c199-41e8-a72b-fc05d5517d1d",
   "metadata": {},
   "outputs": [
    {
     "name": "stdin",
     "output_type": "stream",
     "text": [
      "Enter the BMI Index: 35\n"
     ]
    },
    {
     "name": "stdout",
     "output_type": "stream",
     "text": [
      "Obese\n"
     ]
    }
   ],
   "source": [
    "MyFirstClass.BMI()"
   ]
  },
  {
   "cell_type": "code",
   "execution_count": 11,
   "id": "9b65e7a5-580c-42c6-a8af-74bc0b078e68",
   "metadata": {},
   "outputs": [
    {
     "name": "stdin",
     "output_type": "stream",
     "text": [
      "Enter the Number:  21\n"
     ]
    },
    {
     "data": {
      "text/plain": [
       "'Odd'"
      ]
     },
     "execution_count": 11,
     "metadata": {},
     "output_type": "execute_result"
    }
   ],
   "source": [
    "MyFirstClass.OddorEven()"
   ]
  }
 ],
 "metadata": {
  "kernelspec": {
   "display_name": "Python 3 (ipykernel)",
   "language": "python",
   "name": "python3"
  },
  "language_info": {
   "codemirror_mode": {
    "name": "ipython",
    "version": 3
   },
   "file_extension": ".py",
   "mimetype": "text/x-python",
   "name": "python",
   "nbconvert_exporter": "python",
   "pygments_lexer": "ipython3",
   "version": "3.11.7"
  }
 },
 "nbformat": 4,
 "nbformat_minor": 5
}
