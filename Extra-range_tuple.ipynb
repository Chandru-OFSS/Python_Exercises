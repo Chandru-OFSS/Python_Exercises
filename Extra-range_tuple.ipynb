{
 "cells": [
  {
   "cell_type": "code",
   "execution_count": 5,
   "id": "aab00a98-5825-4fc0-8ea2-da38ddb1e3a3",
   "metadata": {},
   "outputs": [
    {
     "name": "stdout",
     "output_type": "stream",
     "text": [
      "0\n",
      "1\n",
      "2\n",
      "3\n",
      "4\n",
      "5\n",
      "6\n",
      "7\n",
      "8\n",
      "9\n",
      "10\n",
      "11\n",
      "12\n",
      "13\n",
      "14\n",
      "15\n",
      "16\n",
      "17\n",
      "18\n",
      "19\n"
     ]
    }
   ],
   "source": [
    "for i in range(0,20,1):\n",
    "    print(i)"
   ]
  },
  {
   "cell_type": "code",
   "execution_count": 9,
   "id": "1da8d421-a184-44c1-af75-82f0a3d3cdd3",
   "metadata": {},
   "outputs": [
    {
     "name": "stdout",
     "output_type": "stream",
     "text": [
      "10 11 12 13 14 15 16 17 18 19 \n"
     ]
    }
   ],
   "source": [
    "#print range 10 to 20\n",
    "for i in range (10,20,1):\n",
    "    print(i,end=\" \")\n",
    "print()"
   ]
  },
  {
   "cell_type": "code",
   "execution_count": 13,
   "id": "8b339994-11e6-4f85-93a5-c5e73d4d6481",
   "metadata": {},
   "outputs": [
    {
     "name": "stdout",
     "output_type": "stream",
     "text": [
      "Number of items in the List2:  7\n"
     ]
    }
   ],
   "source": [
    "#print no of items in the list by using len\n",
    "lst=[10,20,14,55,43,87,76]\n",
    "print (\"Number of items in the List2: \", len(lst))\n"
   ]
  },
  {
   "cell_type": "code",
   "execution_count": 17,
   "id": "1152a168-9cf5-48d5-b255-2fd53451f39c",
   "metadata": {},
   "outputs": [
    {
     "name": "stdout",
     "output_type": "stream",
     "text": [
      "A\n",
      "r\n",
      "t\n",
      "i\n",
      "f\n",
      "i\n",
      "c\n",
      "i\n",
      "a\n",
      "l\n",
      " \n",
      "I\n",
      "n\n",
      "t\n",
      "e\n",
      "l\n",
      "l\n",
      "i\n",
      "g\n",
      "e\n",
      "n\n",
      "c\n",
      "e\n"
     ]
    }
   ],
   "source": [
    "#AI\n",
    "var1=\"Artificial Intelligence\"\n",
    "for i in var1:\n",
    "    print(i)"
   ]
  },
  {
   "cell_type": "code",
   "execution_count": 21,
   "id": "4bbeb29a-72c2-4f2e-a7fb-488faa09bd8c",
   "metadata": {},
   "outputs": [
    {
     "name": "stdout",
     "output_type": "stream",
     "text": [
      "20 is even\n",
      "10 is even\n",
      "16 is even\n",
      "19 is odd\n",
      "25 is odd\n",
      "1 is odd\n",
      "276 is even\n",
      "188 is even\n"
     ]
    }
   ],
   "source": [
    "#print even numbers in list\n",
    "lst=(20,10,16,19,25,1,276,188)\n",
    "for i in lst:\n",
    "    if i%2 == 0:\n",
    "        print(i, \"is even\")\n",
    "    else:\n",
    "        print(i, \"is odd\")"
   ]
  },
  {
   "cell_type": "code",
   "execution_count": 38,
   "id": "ef815417-d1c1-4712-9390-0b4b064c936c",
   "metadata": {},
   "outputs": [
    {
     "name": "stdout",
     "output_type": "stream",
     "text": [
      "(0, 1, 2, 3) ('Python', 'Hope')\n",
      "((0, 1, 2, 3), ('Python', 'Hope'))\n",
      "(0, 1, 2, 3, 'Python', 'Hope')\n"
     ]
    }
   ],
   "source": [
    "#tuple\n",
    "tupl1=(0,1,2,3)\n",
    "tupl2=('Python', 'Hope')\n",
    "tupl3=(tupl1,tupl2)\n",
    "print(tupl1,tupl2)\n",
    "print(tupl3)\n",
    "print(tupl1+tupl2)"
   ]
  },
  {
   "cell_type": "code",
   "execution_count": null,
   "id": "8c9c061d-5a89-49da-94bf-c2e3b2baef2a",
   "metadata": {},
   "outputs": [],
   "source": []
  }
 ],
 "metadata": {
  "kernelspec": {
   "display_name": "Python 3 (ipykernel)",
   "language": "python",
   "name": "python3"
  },
  "language_info": {
   "codemirror_mode": {
    "name": "ipython",
    "version": 3
   },
   "file_extension": ".py",
   "mimetype": "text/x-python",
   "name": "python",
   "nbconvert_exporter": "python",
   "pygments_lexer": "ipython3",
   "version": "3.11.7"
  }
 },
 "nbformat": 4,
 "nbformat_minor": 5
}
