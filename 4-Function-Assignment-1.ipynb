{
 "cells": [
  {
   "cell_type": "code",
   "execution_count": 5,
   "id": "094abc1f-8e56-4c57-8213-9e9c965bf039",
   "metadata": {},
   "outputs": [
    {
     "name": "stdout",
     "output_type": "stream",
     "text": [
      "Sub fields in AI are: \n",
      "Machine Learning\n",
      "Neural Networks\n",
      "Vision\n",
      "Robotics\n",
      "Speech Processing\n",
      "Natural Language Processing\n"
     ]
    }
   ],
   "source": [
    "SubFieldsAI=('Machine Learning','Neural Networks','Vision','Robotics','Speech Processing','Natural Language Processing')\n",
    "print(\"Sub fields in AI are: \")\n",
    "def SubFields():\n",
    "\tfor i in SubFieldsAI:\n",
    "\t\tprint(i)\n",
    "\n",
    "SubFields()"
   ]
  },
  {
   "cell_type": "code",
   "execution_count": 15,
   "id": "9171f721-eb59-4c27-a39c-37f0329b793b",
   "metadata": {},
   "outputs": [
    {
     "name": "stdin",
     "output_type": "stream",
     "text": [
      "Enter a number:  35\n"
     ]
    },
    {
     "name": "stdout",
     "output_type": "stream",
     "text": [
      "Odd\n",
      "35  is  Odd  number\n"
     ]
    }
   ],
   "source": [
    "#Create a function to check if the given number is odd or even\n",
    "\n",
    "num1=int(input(\"Enter a number: \"))\n",
    "def OddorEven():\n",
    "\tif num1%2==1:\n",
    "\t\tmessage=\"Odd\"\n",
    "\telse:\n",
    "\t\tmessage=\"Even\"\n",
    "\tprint(message)\n",
    "\treturn message\n",
    "\n",
    "m1=OddorEven()\n",
    "print(num1,\" is \", m1 ,\" number\")"
   ]
  },
  {
   "cell_type": "code",
   "execution_count": 49,
   "id": "260dceb5-969c-4b54-adb1-693152c21768",
   "metadata": {},
   "outputs": [
    {
     "name": "stdin",
     "output_type": "stream",
     "text": [
      "Enter the Age:  22\n",
      "Enter the Gender (M/F):  m\n"
     ]
    },
    {
     "name": "stdout",
     "output_type": "stream",
     "text": [
      "Your Gender is:  M\n",
      "Your Age is   :  22\n",
      "Invalid Gender\n"
     ]
    }
   ],
   "source": [
    "#Create a function to check marriage eligibility for men and women based on their age\n",
    "age=int(input(\"Enter the Age: \"))\n",
    "gendr=input(\"Enter the Gender (M/F): \")\n",
    "\n",
    "def CheckMarriageEligiblity():\n",
    "    if ((gendr.upper)==\"F\"): \n",
    "        if (age>18):\n",
    "            message=\"Eligible\"\n",
    "        else:\n",
    "            message=\"Not Eligible\"\n",
    "    elif ((gendr.upper)==\"M\"): \n",
    "        if (age>25):\n",
    "            message=\"Eligible\"\n",
    "        else:\n",
    "            message=\"Not Eligible\"\n",
    "    else:\n",
    "        message=\"Invalid Gender\"\n",
    "\n",
    "    print(\"Your Gender is: \", gendr.upper())\n",
    "    print(\"Your Age is   : \", age)\n",
    "    print(message)\n",
    "\n",
    "CheckMarriageEligiblity()"
   ]
  },
  {
   "cell_type": "code",
   "execution_count": 104,
   "id": "d01f2230-9fe4-457b-9f09-3db3b05ab7a1",
   "metadata": {},
   "outputs": [
    {
     "name": "stdout",
     "output_type": "stream",
     "text": [
      "Subject 1 =  98\n",
      "Subject 2 =  87\n",
      "Subject 3 =  95\n",
      "Subject 4 =  95\n",
      "Subject 5 =  93\n",
      "Total:  468\n",
      "Percentage:  93.60000000000001\n"
     ]
    }
   ],
   "source": [
    "#Calculate % of 10th mark\n",
    "sublist=[98,87,95,95,93]\n",
    "increment=0\n",
    "total=0\n",
    "def GetPercentage():\n",
    "    global increment\n",
    "    global total\n",
    "    for i in sublist:\n",
    "        increment=increment+1\n",
    "        total=total+i\n",
    "        print(\"Subject\",increment,\"= \",i)\n",
    "    print(\"Total: \",total)\t\n",
    "    percent=(total/500)*100\n",
    "    return percent\n",
    "\n",
    "result=GetPercentage()\n",
    "print(\"Percentage: \",result)\n"
   ]
  },
  {
   "cell_type": "code",
   "execution_count": 78,
   "id": "09667cac-d6b9-4277-ad2a-d629aae07a1c",
   "metadata": {},
   "outputs": [
    {
     "name": "stdout",
     "output_type": "stream",
     "text": [
      "Area of a Triangle\n"
     ]
    },
    {
     "name": "stdin",
     "output_type": "stream",
     "text": [
      "Enter the height:  32\n",
      "Enter the breadth:  34\n"
     ]
    },
    {
     "name": "stdout",
     "output_type": "stream",
     "text": [
      "Height:  32\n",
      "Breadth:  34\n",
      "Area of the Triangle is:  544.0\n",
      "Perimeter of a Triangle\n"
     ]
    },
    {
     "name": "stdin",
     "output_type": "stream",
     "text": [
      "Enter the height1:  2\n",
      "Enter the height2:  3\n",
      "Enter the breadth:  3\n"
     ]
    },
    {
     "name": "stdout",
     "output_type": "stream",
     "text": [
      "Height1:  2\n",
      "Height2:  3\n",
      "Breadth:  3\n",
      "Perimeter of the Triangle is:  8\n"
     ]
    }
   ],
   "source": [
    "#print area and perimeter of a triangle\n",
    "def GetArea(h,b):\n",
    "\tarea=(h*b)/2\n",
    "\tprint(\"Height: \",h)\n",
    "\tprint(\"Breadth: \",b)\n",
    "\treturn area\n",
    "\n",
    "def GetPerim(h1,h2,b1):\n",
    "\tperim=h1+h2+b1\n",
    "\tprint(\"Height1: \",h1)\n",
    "\tprint(\"Height2: \",h2)\n",
    "\tprint(\"Breadth: \",b1)\n",
    "\treturn perim\n",
    "    \n",
    "print(\"Area of a Triangle\")\n",
    "height=int(input(\"Enter the height: \"))\n",
    "breadth=int(input(\"Enter the breadth: \"))\n",
    "area=GetArea(height,breadth)\n",
    "print(\"Area of the Triangle is: \",area)\n",
    "\n",
    "print(\"Perimeter of a Triangle\")\n",
    "height1=int(input(\"Enter the height1: \"))\n",
    "height2=int(input(\"Enter the height2: \"))\n",
    "breadth1=int(input(\"Enter the breadth: \"))\n",
    "perim=GetPerim(height1,height2,breadth1)\n",
    "print(\"Perimeter of the Triangle is: \",perim)\n",
    "\n",
    "\n"
   ]
  }
 ],
 "metadata": {
  "kernelspec": {
   "display_name": "Python 3 (ipykernel)",
   "language": "python",
   "name": "python3"
  },
  "language_info": {
   "codemirror_mode": {
    "name": "ipython",
    "version": 3
   },
   "file_extension": ".py",
   "mimetype": "text/x-python",
   "name": "python",
   "nbconvert_exporter": "python",
   "pygments_lexer": "ipython3",
   "version": "3.11.7"
  }
 },
 "nbformat": 4,
 "nbformat_minor": 5
}
