{
 "cells": [
  {
   "cell_type": "code",
   "execution_count": 1,
   "id": "7fdc6f90-d305-44e2-9dc5-fd041eee0e06",
   "metadata": {},
   "outputs": [
    {
     "name": "stdout",
     "output_type": "stream",
     "text": [
      "Welcome to Assignment-1\n"
     ]
    }
   ],
   "source": [
    "print(\"Welcome to Assignment-1\")"
   ]
  },
  {
   "cell_type": "code",
   "execution_count": 3,
   "id": "3cccc430-0b39-4c5f-a545-e39a4e6ab79c",
   "metadata": {},
   "outputs": [
    {
     "name": "stdout",
     "output_type": "stream",
     "text": [
      "Num1= 10\n",
      "Num2= 30\n",
      "Add= 40\n"
     ]
    }
   ],
   "source": [
    "Num1=10\n",
    "Num2=30\n",
    "Add=Num1+Num2\n",
    "print(\"Num1=\",Num1)\n",
    "print(\"Num2=\",Num2)\n",
    "print(\"Add=\",Add)"
   ]
  },
  {
   "cell_type": "code",
   "execution_count": 14,
   "id": "993802c0-475d-47fc-9ef2-0dd97ac6567f",
   "metadata": {},
   "outputs": [
    {
     "name": "stdin",
     "output_type": "stream",
     "text": [
      "Enter the BMI Index: 25\n"
     ]
    },
    {
     "name": "stdout",
     "output_type": "stream",
     "text": [
      "Overweight\n"
     ]
    }
   ],
   "source": [
    "#Body Mass Index\n",
    "BMI=int(input(\"Enter the BMI Index:\"))\n",
    "if(BMI<=18):\n",
    "\tprint(\"Underweight\")\n",
    "elif(BMI<=24):\n",
    "\tprint(\"Healthy\")\n",
    "elif(BMI<=29):\n",
    "\tprint(\"Overweight\")\n",
    "elif(BMI<=39):\n",
    "\tprint(\"Obese\")\n",
    "else:\n",
    "\tprint(\"Extremely Obese\")"
   ]
  }
 ],
 "metadata": {
  "kernelspec": {
   "display_name": "Python 3 (ipykernel)",
   "language": "python",
   "name": "python3"
  },
  "language_info": {
   "codemirror_mode": {
    "name": "ipython",
    "version": 3
   },
   "file_extension": ".py",
   "mimetype": "text/x-python",
   "name": "python",
   "nbconvert_exporter": "python",
   "pygments_lexer": "ipython3",
   "version": "3.11.7"
  }
 },
 "nbformat": 4,
 "nbformat_minor": 5
}
